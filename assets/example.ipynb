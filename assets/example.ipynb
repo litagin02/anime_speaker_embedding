{
 "cells": [
  {
   "cell_type": "code",
   "execution_count": null,
   "id": "c4ee962d",
   "metadata": {},
   "outputs": [],
   "source": [
    "from anime_speaker_embedding.model import AnimeSpeakerEmbedding\n",
    "import torch\n",
    "\n",
    "\n",
    "device = \"cuda\" if torch.cuda.is_available() else \"cpu\"\n",
    "model = AnimeSpeakerEmbedding(device=device)"
   ]
  },
  {
   "cell_type": "code",
   "execution_count": null,
   "id": "5fa16abc",
   "metadata": {},
   "outputs": [],
   "source": [
    "from pathlib import Path\n",
    "\n",
    "audio_root = Path(\"path/to/your/audio/directory\")\n",
    "\n",
    "audio_files = list(audio_root.rglob(\"*.ogg\"))\n",
    "len(audio_files)"
   ]
  },
  {
   "cell_type": "code",
   "execution_count": null,
   "id": "fcd69f84",
   "metadata": {},
   "outputs": [],
   "source": [
    "def get_emb(file_path: Path):\n",
    "    return model.get_embedding(file_path)"
   ]
  },
  {
   "cell_type": "code",
   "execution_count": null,
   "id": "d84f7b77",
   "metadata": {},
   "outputs": [],
   "source": [
    "from tqdm.notebook import tqdm\n",
    "from concurrent.futures import ThreadPoolExecutor\n",
    "\n",
    "with ThreadPoolExecutor(max_workers=10) as executor:\n",
    "    results = list(tqdm(executor.map(get_emb, audio_files), total=len(audio_files)))"
   ]
  },
  {
   "cell_type": "code",
   "execution_count": null,
   "id": "7dbac19d",
   "metadata": {},
   "outputs": [],
   "source": [
    "import numpy as np\n",
    "\n",
    "embeddings = np.array(results)  # (N, 192)\n",
    "embeddings.shape"
   ]
  },
  {
   "cell_type": "code",
   "execution_count": null,
   "id": "05295e4b",
   "metadata": {},
   "outputs": [],
   "source": [
    "from sklearn.manifold import TSNE\n",
    "\n",
    "tsne = TSNE(n_components=2, random_state=42)\n",
    "embeddings_2d = tsne.fit_transform(embeddings)"
   ]
  },
  {
   "cell_type": "code",
   "execution_count": null,
   "id": "71f788cc",
   "metadata": {},
   "outputs": [],
   "source": [
    "from pathlib import Path\n",
    "import matplotlib.pyplot as plt\n",
    "import hashlib\n",
    "\n",
    "\n",
    "def get_speaker_name(audio_path: Path) -> str:\n",
    "    return audio_path.parent.name\n",
    "\n",
    "\n",
    "def get_speaker_hash(audio_path: Path) -> str:\n",
    "    return hashlib.md5(get_speaker_name(audio_path).encode()).hexdigest()[:8]\n",
    "\n",
    "\n",
    "labels = [get_speaker_hash(p) for p in audio_files]\n",
    "unique_labels = sorted(set(labels))\n",
    "\n",
    "cmap = plt.colormaps[\"tab20\"]\n",
    "colors = [cmap(i % cmap.N) for i in range(len(unique_labels))]\n",
    "\n",
    "plt.figure(figsize=(10, 8))\n",
    "\n",
    "for idx, lbl in enumerate(unique_labels):\n",
    "    idxs = [i for i, l in enumerate(labels) if l == lbl]\n",
    "    plt.scatter(\n",
    "        embeddings_2d[idxs, 0],\n",
    "        embeddings_2d[idxs, 1],\n",
    "        color=colors[idx],\n",
    "        label=lbl,\n",
    "        alpha=0.5,\n",
    "    )\n",
    "\n",
    "plt.title(\"t-SNE of Audio Embeddings by Speaker\")\n",
    "plt.xlabel(\"t-SNE Dim 1\")\n",
    "plt.ylabel(\"t-SNE Dim 2\")\n",
    "\n",
    "plt.legend(title=\"Speaker\")\n",
    "plt.tight_layout()\n",
    "plt.show()"
   ]
  }
 ],
 "metadata": {
  "kernelspec": {
   "display_name": ".venv",
   "language": "python",
   "name": "python3"
  },
  "language_info": {
   "codemirror_mode": {
    "name": "ipython",
    "version": 3
   },
   "file_extension": ".py",
   "mimetype": "text/x-python",
   "name": "python",
   "nbconvert_exporter": "python",
   "pygments_lexer": "ipython3",
   "version": "3.12.9"
  }
 },
 "nbformat": 4,
 "nbformat_minor": 5
}
